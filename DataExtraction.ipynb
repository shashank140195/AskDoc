{
 "cells": [
  {
   "cell_type": "code",
   "execution_count": 1,
   "id": "50f6674b-cab9-4e45-a6ce-928a6e98fee8",
   "metadata": {},
   "outputs": [],
   "source": [
    "import psaw\n",
    "from psaw import PushshiftAPI\n",
    "import praw\n",
    "import datetime as dt\n",
    "import pprint\n",
    "import pandas as pd\n",
    "import json"
   ]
  },
  {
   "cell_type": "code",
   "execution_count": 2,
   "id": "75e4de60-e5fa-4351-b998-30bee9698d7d",
   "metadata": {},
   "outputs": [
    {
     "name": "stdout",
     "output_type": "stream",
     "text": [
      "Excellent-Screen-836\n"
     ]
    }
   ],
   "source": [
    "reddit = praw.Reddit(\n",
    "    client_id=\"\",\n",
    "    client_secret=\"\",\n",
    "    user_agent=\"\",\n",
    "    username=\"\",\n",
    "    password=\"\"\n",
    ")\n",
    "print(reddit.user.me())\n",
    "\n",
    "api = PushshiftAPI(reddit)"
   ]
  },
  {
   "cell_type": "code",
   "execution_count": 3,
   "id": "da2f88bc-a181-48d7-bf7e-a68898c50835",
   "metadata": {},
   "outputs": [],
   "source": [
    "start_epoch=int(dt.datetime(2021, 1, 1,0,0).timestamp())\n",
    "before_epoch=int(dt.datetime(2022, 1, 1,0,0).timestamp())\n",
    "\n",
    "gen = api.search_submissions(after =  start_epoch,\n",
    "                            before=before_epoch,\n",
    "                            subreddit='AskDocs',\n",
    "                            )  "
   ]
  },
  {
   "cell_type": "code",
   "execution_count": 4,
   "id": "71c9bbfe-75df-442f-9a4a-85cf6a949b5b",
   "metadata": {},
   "outputs": [
    {
     "name": "stdout",
     "output_type": "stream",
     "text": [
      "29510\n"
     ]
    }
   ],
   "source": [
    "submissionList = {}\n",
    "post_list = []\n",
    "current_count = 0\n",
    "\n",
    "for thing in gen:\n",
    "    if thing.selftext not in ['[removed]', '[deleted]']:\n",
    "        current_count = current_count + 1\n",
    "        post_dict = {}\n",
    "        \n",
    "        submissionList = []\n",
    "        thing.comments.replace_more(limit=0)\n",
    "        for comment in thing.comments.list():\n",
    "            \n",
    "            comments_dict = {}\n",
    "            comments_dict[\"cmnt_id\"] = comment.id\n",
    "            \n",
    "            if comment.author != None:\n",
    "                comments_dict[\"cmnt_author\"] = comment.author.name\n",
    "                \n",
    "            else:\n",
    "                comments_dict[\"cmnt_author\"] = \"None\"\n",
    "                \n",
    "            comments_dict[\"body\"] = comment.body\n",
    "            comments_dict[\"created\"] = str(comment.created)\n",
    "            comments_dict[\"is_submitter\"] = str(comment.is_submitter)\n",
    "            comments_dict[\"parent_id\"] = comment.parent_id\n",
    "            comments_dict[\"author_flair_css_class\"] = str(comment.author_flair_css_class)\n",
    "            comments_dict[\"author_flair_text\"] = str(comment.author_flair_text)\n",
    "            \n",
    "            submissionList.append(comments_dict)\n",
    "        \n",
    "        post_dict[\"post_id\"] = str(thing.id)\n",
    "        \n",
    "        if thing.author != None:\n",
    "            post_dict[\"post_author\"] = thing.author.name\n",
    "        else:\n",
    "            post_dict[\"post_author\"] = \"None\"\n",
    "            \n",
    "        post_dict[\"created\"] = str(dt.datetime.fromtimestamp((thing.created)))\n",
    "        post_dict[\"title\"] = thing.title\n",
    "        post_dict[\"selftext\"] = thing.selftext\n",
    "        post_dict[\"url\"] = thing.url\n",
    "        post_dict[\"num_comments\"] = str(thing.num_comments)\n",
    "        post_dict[\"comments\"] = submissionList\n",
    "        post_list.append(post_dict)\n",
    "        \n",
    "with open('/Users/shashankgupta/Desktop/PRAW-Data/2021ADR.json', 'w') as outfile:\n",
    "    json.dump(post_list, outfile)\n",
    "    \n",
    "print(current_count)        "
   ]
  },
  {
   "cell_type": "code",
   "execution_count": null,
   "id": "13d5bdf5-7a6d-485b-ae5e-f05b1105a991",
   "metadata": {},
   "outputs": [],
   "source": []
  },
  {
   "cell_type": "code",
   "execution_count": null,
   "id": "1b14ea8c-5a59-46ef-993b-778c8bf5709e",
   "metadata": {},
   "outputs": [],
   "source": []
  },
  {
   "cell_type": "code",
   "execution_count": null,
   "id": "b6dea96f-17a4-47ac-913e-b356753d0a7c",
   "metadata": {},
   "outputs": [],
   "source": []
  },
  {
   "cell_type": "code",
   "execution_count": null,
   "id": "131720c0-1321-4a7d-acbf-0a4297a62b58",
   "metadata": {},
   "outputs": [],
   "source": []
  },
  {
   "cell_type": "code",
   "execution_count": null,
   "id": "c150554a-a623-460a-9f8f-23a768168ea0",
   "metadata": {},
   "outputs": [],
   "source": []
  }
 ],
 "metadata": {
  "kernelspec": {
   "display_name": "Python 3",
   "language": "python",
   "name": "python3"
  },
  "language_info": {
   "codemirror_mode": {
    "name": "ipython",
    "version": 3
   },
   "file_extension": ".py",
   "mimetype": "text/x-python",
   "name": "python",
   "nbconvert_exporter": "python",
   "pygments_lexer": "ipython3",
   "version": "3.8.8"
  }
 },
 "nbformat": 4,
 "nbformat_minor": 5
}
